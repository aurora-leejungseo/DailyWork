{
 "cells": [
  {
   "cell_type": "markdown",
   "metadata": {},
   "source": [
    "# Project 개요"
   ]
  },
  {
   "cell_type": "markdown",
   "metadata": {},
   "source": [
    "코로나19의 영향으로 우리나라 FMCG 시장의 제조사들은 시장 변화를 경험했다. 카테고리 별로 사재기를 경험하기도 하고, 수요가 극적으로 줄어 \n",
    "유통사에서 진열 공간을 위협받기도 하였다. 카테고리별로 코로나19로 인한 영향이 다를 것이라 예상되는데, \n",
    "1. 코로나 위기에 수요가 확대되었고, 코로나 이전 대비 높아진 수요 베이스라인이 지속될 가능성이 있는 카테고리\n",
    "2. 사재기로 인해서 단기간 수요가 늘어났지만, 코로나 사태가 진정되고 나면 수요 베이스가 코로나 사태 이전으로 돌아갈 것으로 예상되는 카테고리\n",
    "3. 코로나 위기 동안 수요가 감소한 카테고리\n",
    "가 있을 것으로 예상된다. 언론이나 외국의 사례를 보았을 때, 각 항목별로 예상되는 카테고리를 설정하고 실제로 판매가 어떻게 변화했는지 살펴본다.\n",
    "추가적으로 코로나 사태의 흐름에 따라 post COVID sales는 어떻게 변화할 것으로 예상되는지 알아보자."
   ]
  },
  {
   "cell_type": "markdown",
   "metadata": {},
   "source": [
    "# 목차"
   ]
  },
  {
   "cell_type": "markdown",
   "metadata": {},
   "source": [
    "1. 가설\n",
    "2. 정의\n",
    "3. 분석 1) COVID impact per category 2) Post sales prediction\n",
    "4. 시사점"
   ]
  },
  {
   "cell_type": "markdown",
   "metadata": {},
   "source": [
    "# 검증할 가설 :"
   ]
  },
  {
   "cell_type": "markdown",
   "metadata": {},
   "source": [
    "1. 카테고리별로 impact를 다르게 받았을 것이다. 언론이나 외국의 사례를 통해 판매액 변화별 카테고리 구분이 올바르게 되었는가 \n",
    "2. Channel별로 impact를 다르게 받았을 것이다."
   ]
  },
  {
   "cell_type": "markdown",
   "metadata": {},
   "source": [
    "* 카테고리 구분"
   ]
  },
  {
   "cell_type": "markdown",
   "metadata": {},
   "source": [
    "1. 코로나 위기에 수요가 확대되었고, 코로나 이전 대비 높아진 수요 베이스라인이 지속될 가능성이 있는 카테고리 :\n",
    "\n",
    "    청소용 세정제, 핸드워시, 캡슐커피 등"
   ]
  },
  {
   "cell_type": "markdown",
   "metadata": {},
   "source": [
    "2. 사재기로 인해서 단기간 수요가 늘어났지만, 코로나 사태가 진정되고 나면 수요 베이스가 코로나 사태 이전으로 돌아갈 것으로 예상되는 카테고리 :\n",
    "    \n",
    "    가정간편식, 식재료, 제지, 구강청정제"
   ]
  },
  {
   "cell_type": "markdown",
   "metadata": {},
   "source": [
    "3. 코로나 위기 동안 수요가 감소한 카테고리 :\n",
    "    \n",
    "    생활용품, 음료, 문구류, + 숙취해소제"
   ]
  },
  {
   "cell_type": "markdown",
   "metadata": {},
   "source": [
    "* 채널 구분\n",
    "1. Hypermarket\n",
    "2. CVS\n",
    "3. Total Offline (Hypermarket + CVS)\n",
    "4. Online\n",
    "5. Total market (Offline + Online)"
   ]
  },
  {
   "cell_type": "markdown",
   "metadata": {},
   "source": [
    "# 정의"
   ]
  },
  {
   "cell_type": "markdown",
   "metadata": {},
   "source": [
    "COVID19 영향을 받은 기간 :\n",
    "\n",
    "    1. 중국에서 처음 확진자 나온 날짜: 2019.12.31\n",
    "    2. 우리나라에서 처음 확진자 나온 날짜: 2020.1.20\n",
    "    3. WHO에서 Public Health Emergency 선언한 날짜: 2020.1.30\n",
    "    4. 우리나라에서 사회적 거리두기 캠페인 제안 날짜: 2020.2.28 \n",
    "    5. 우리나라에서 사회적 거리두기를 생활 속 거리두기로 전환한 날짜: 2020.5.6"
   ]
  },
  {
   "cell_type": "code",
   "execution_count": null,
   "metadata": {},
   "outputs": [],
   "source": []
  }
 ],
 "metadata": {
  "kernelspec": {
   "display_name": "Python 3",
   "language": "python",
   "name": "python3"
  },
  "language_info": {
   "codemirror_mode": {
    "name": "ipython",
    "version": 3
   },
   "file_extension": ".py",
   "mimetype": "text/x-python",
   "name": "python",
   "nbconvert_exporter": "python",
   "pygments_lexer": "ipython3",
   "version": "3.8.1"
  }
 },
 "nbformat": 4,
 "nbformat_minor": 4
}
