{
 "cells": [
  {
   "cell_type": "markdown",
   "metadata": {},
   "source": [
    "## p.32 Topics of Interest"
   ]
  },
  {
   "cell_type": "markdown",
   "metadata": {},
   "source": [
    "To understand what topics users are most interested in"
   ]
  },
  {
   "cell_type": "code",
   "execution_count": 1,
   "metadata": {},
   "outputs": [],
   "source": [
    "# raw data from the friend-suggester project\n",
    "\n",
    "interests = [\n",
    "       (0, \"Hadoop\"), (0, \"Big Data\"), (0, \"HBase\"), (0, \"Java\"),\n",
    "       (0, \"Spark\"), (0, \"Storm\"), (0, \"Cassandra\"),\n",
    "       (1, \"NoSQL\"), (1, \"MongoDB\"), (1, \"Cassandra\"), (1, \"HBase\"),\n",
    "       (1, \"Postgres\"), (2, \"Python\"), (2, \"scikit-learn\"), (2, \"scipy\"),\n",
    "       (2, \"numpy\"), (2, \"statsmodels\"), (2, \"pandas\"), (3, \"R\"), (3, \"Python\"),\n",
    "       (3, \"statistics\"), (3, \"regression\"), (3, \"probability\"),\n",
    "       (4, \"machine learning\"), (4, \"regression\"), (4, \"decision trees\"),\n",
    "       (4, \"libsvm\"), (5, \"Python\"), (5, \"R\"), (5, \"Java\"), (5, \"C++\"),\n",
    "       (5, \"Haskell\"), (5, \"programming languages\"), (6, \"statistics\"),\n",
    "       (6, \"probability\"), (6, \"mathematics\"), (6, \"theory\"),\n",
    "       (7, \"machine learning\"), (7, \"scikit-learn\"), (7, \"Mahout\"),\n",
    "       (7, \"neural networks\"), (8, \"neural networks\"), (8, \"deep learning\"),\n",
    "       (8, \"Big Data\"), (8, \"artificial intelligence\"), (9, \"Hadoop\"),\n",
    "       (9, \"Java\"), (9, \"MapReduce\"), (9, \"Big Data\")\n",
    "]"
   ]
  },
  {
   "cell_type": "markdown",
   "metadata": {},
   "source": [
    "One simple way to find the most popular interests is simply count the words\n",
    "\n",
    "    1. Lowercase each interest since different users may or may not capitalize theri interests\n",
    "    \n",
    "    2. Split it into words\n",
    "    \n",
    "    3. Count the results"
   ]
  },
  {
   "cell_type": "code",
   "execution_count": 3,
   "metadata": {},
   "outputs": [],
   "source": [
    "from collections import Counter"
   ]
  },
  {
   "cell_type": "code",
   "execution_count": 12,
   "metadata": {},
   "outputs": [],
   "source": [
    "words_and_counts = Counter(word \n",
    "                           for user, interest in interests\n",
    "                           for word in interest.lower().split())\n",
    "\n",
    "#리스트(user, interest)로 이루어진 interests에서 interest부분을 lowercase로 바꾸고 띄어쓰기 기준으로 split하여 이 word의 갯수를 count"
   ]
  },
  {
   "cell_type": "code",
   "execution_count": 13,
   "metadata": {},
   "outputs": [
    {
     "data": {
      "text/plain": [
       "Counter({'hadoop': 2,\n",
       "         'big': 3,\n",
       "         'data': 3,\n",
       "         'hbase': 2,\n",
       "         'java': 3,\n",
       "         'spark': 1,\n",
       "         'storm': 1,\n",
       "         'cassandra': 2,\n",
       "         'nosql': 1,\n",
       "         'mongodb': 1,\n",
       "         'postgres': 1,\n",
       "         'python': 3,\n",
       "         'scikit-learn': 2,\n",
       "         'scipy': 1,\n",
       "         'numpy': 1,\n",
       "         'statsmodels': 1,\n",
       "         'pandas': 1,\n",
       "         'r': 2,\n",
       "         'statistics': 2,\n",
       "         'regression': 2,\n",
       "         'probability': 2,\n",
       "         'machine': 2,\n",
       "         'learning': 3,\n",
       "         'decision': 1,\n",
       "         'trees': 1,\n",
       "         'libsvm': 1,\n",
       "         'c++': 1,\n",
       "         'haskell': 1,\n",
       "         'programming': 1,\n",
       "         'languages': 1,\n",
       "         'mathematics': 1,\n",
       "         'theory': 1,\n",
       "         'mahout': 1,\n",
       "         'neural': 2,\n",
       "         'networks': 2,\n",
       "         'deep': 1,\n",
       "         'artificial': 1,\n",
       "         'intelligence': 1,\n",
       "         'mapreduce': 1})"
      ]
     },
     "execution_count": 13,
     "metadata": {},
     "output_type": "execute_result"
    }
   ],
   "source": [
    "words_and_counts"
   ]
  },
  {
   "cell_type": "markdown",
   "metadata": {},
   "source": [
    "list out the words that occur more than once:"
   ]
  },
  {
   "cell_type": "code",
   "execution_count": null,
   "metadata": {},
   "outputs": [],
   "source": [
    "for word, count in words"
   ]
  }
 ],
 "metadata": {
  "kernelspec": {
   "display_name": "Python 3",
   "language": "python",
   "name": "python3"
  },
  "language_info": {
   "codemirror_mode": {
    "name": "ipython",
    "version": 3
   },
   "file_extension": ".py",
   "mimetype": "text/x-python",
   "name": "python",
   "nbconvert_exporter": "python",
   "pygments_lexer": "ipython3",
   "version": "3.7.3"
  }
 },
 "nbformat": 4,
 "nbformat_minor": 2
}
